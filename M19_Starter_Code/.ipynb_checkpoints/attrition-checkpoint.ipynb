{
 "cells": [
  {
   "cell_type": "markdown",
   "metadata": {
    "id": "alIIEHibGc3M"
   },
   "source": [
    "## Part 1: Preprocessing"
   ]
  },
  {
   "cell_type": "code",
   "execution_count": 214,
   "metadata": {
    "colab": {
     "base_uri": "https://localhost:8080/",
     "height": 325
    },
    "id": "6eDUJ4NtGc3P",
    "outputId": "2480098c-135c-4cbf-9552-018494ee8ff5"
   },
   "outputs": [
    {
     "data": {
      "text/html": [
       "<div>\n",
       "<style scoped>\n",
       "    .dataframe tbody tr th:only-of-type {\n",
       "        vertical-align: middle;\n",
       "    }\n",
       "\n",
       "    .dataframe tbody tr th {\n",
       "        vertical-align: top;\n",
       "    }\n",
       "\n",
       "    .dataframe thead th {\n",
       "        text-align: right;\n",
       "    }\n",
       "</style>\n",
       "<table border=\"1\" class=\"dataframe\">\n",
       "  <thead>\n",
       "    <tr style=\"text-align: right;\">\n",
       "      <th></th>\n",
       "      <th>Age</th>\n",
       "      <th>Attrition</th>\n",
       "      <th>BusinessTravel</th>\n",
       "      <th>Department</th>\n",
       "      <th>DistanceFromHome</th>\n",
       "      <th>Education</th>\n",
       "      <th>EducationField</th>\n",
       "      <th>EnvironmentSatisfaction</th>\n",
       "      <th>HourlyRate</th>\n",
       "      <th>JobInvolvement</th>\n",
       "      <th>...</th>\n",
       "      <th>PerformanceRating</th>\n",
       "      <th>RelationshipSatisfaction</th>\n",
       "      <th>StockOptionLevel</th>\n",
       "      <th>TotalWorkingYears</th>\n",
       "      <th>TrainingTimesLastYear</th>\n",
       "      <th>WorkLifeBalance</th>\n",
       "      <th>YearsAtCompany</th>\n",
       "      <th>YearsInCurrentRole</th>\n",
       "      <th>YearsSinceLastPromotion</th>\n",
       "      <th>YearsWithCurrManager</th>\n",
       "    </tr>\n",
       "  </thead>\n",
       "  <tbody>\n",
       "    <tr>\n",
       "      <th>0</th>\n",
       "      <td>41</td>\n",
       "      <td>Yes</td>\n",
       "      <td>Travel_Rarely</td>\n",
       "      <td>Sales</td>\n",
       "      <td>1</td>\n",
       "      <td>2</td>\n",
       "      <td>Life Sciences</td>\n",
       "      <td>2</td>\n",
       "      <td>94</td>\n",
       "      <td>3</td>\n",
       "      <td>...</td>\n",
       "      <td>3</td>\n",
       "      <td>1</td>\n",
       "      <td>0</td>\n",
       "      <td>8</td>\n",
       "      <td>0</td>\n",
       "      <td>1</td>\n",
       "      <td>6</td>\n",
       "      <td>4</td>\n",
       "      <td>0</td>\n",
       "      <td>5</td>\n",
       "    </tr>\n",
       "    <tr>\n",
       "      <th>1</th>\n",
       "      <td>49</td>\n",
       "      <td>No</td>\n",
       "      <td>Travel_Frequently</td>\n",
       "      <td>Research &amp; Development</td>\n",
       "      <td>8</td>\n",
       "      <td>1</td>\n",
       "      <td>Life Sciences</td>\n",
       "      <td>3</td>\n",
       "      <td>61</td>\n",
       "      <td>2</td>\n",
       "      <td>...</td>\n",
       "      <td>4</td>\n",
       "      <td>4</td>\n",
       "      <td>1</td>\n",
       "      <td>10</td>\n",
       "      <td>3</td>\n",
       "      <td>3</td>\n",
       "      <td>10</td>\n",
       "      <td>7</td>\n",
       "      <td>1</td>\n",
       "      <td>7</td>\n",
       "    </tr>\n",
       "    <tr>\n",
       "      <th>2</th>\n",
       "      <td>37</td>\n",
       "      <td>Yes</td>\n",
       "      <td>Travel_Rarely</td>\n",
       "      <td>Research &amp; Development</td>\n",
       "      <td>2</td>\n",
       "      <td>2</td>\n",
       "      <td>Other</td>\n",
       "      <td>4</td>\n",
       "      <td>92</td>\n",
       "      <td>2</td>\n",
       "      <td>...</td>\n",
       "      <td>3</td>\n",
       "      <td>2</td>\n",
       "      <td>0</td>\n",
       "      <td>7</td>\n",
       "      <td>3</td>\n",
       "      <td>3</td>\n",
       "      <td>0</td>\n",
       "      <td>0</td>\n",
       "      <td>0</td>\n",
       "      <td>0</td>\n",
       "    </tr>\n",
       "    <tr>\n",
       "      <th>3</th>\n",
       "      <td>33</td>\n",
       "      <td>No</td>\n",
       "      <td>Travel_Frequently</td>\n",
       "      <td>Research &amp; Development</td>\n",
       "      <td>3</td>\n",
       "      <td>4</td>\n",
       "      <td>Life Sciences</td>\n",
       "      <td>4</td>\n",
       "      <td>56</td>\n",
       "      <td>3</td>\n",
       "      <td>...</td>\n",
       "      <td>3</td>\n",
       "      <td>3</td>\n",
       "      <td>0</td>\n",
       "      <td>8</td>\n",
       "      <td>3</td>\n",
       "      <td>3</td>\n",
       "      <td>8</td>\n",
       "      <td>7</td>\n",
       "      <td>3</td>\n",
       "      <td>0</td>\n",
       "    </tr>\n",
       "    <tr>\n",
       "      <th>4</th>\n",
       "      <td>27</td>\n",
       "      <td>No</td>\n",
       "      <td>Travel_Rarely</td>\n",
       "      <td>Research &amp; Development</td>\n",
       "      <td>2</td>\n",
       "      <td>1</td>\n",
       "      <td>Medical</td>\n",
       "      <td>1</td>\n",
       "      <td>40</td>\n",
       "      <td>3</td>\n",
       "      <td>...</td>\n",
       "      <td>3</td>\n",
       "      <td>4</td>\n",
       "      <td>1</td>\n",
       "      <td>6</td>\n",
       "      <td>3</td>\n",
       "      <td>3</td>\n",
       "      <td>2</td>\n",
       "      <td>2</td>\n",
       "      <td>2</td>\n",
       "      <td>2</td>\n",
       "    </tr>\n",
       "  </tbody>\n",
       "</table>\n",
       "<p>5 rows × 27 columns</p>\n",
       "</div>"
      ],
      "text/plain": [
       "   Age Attrition     BusinessTravel              Department  DistanceFromHome  \\\n",
       "0   41       Yes      Travel_Rarely                   Sales                 1   \n",
       "1   49        No  Travel_Frequently  Research & Development                 8   \n",
       "2   37       Yes      Travel_Rarely  Research & Development                 2   \n",
       "3   33        No  Travel_Frequently  Research & Development                 3   \n",
       "4   27        No      Travel_Rarely  Research & Development                 2   \n",
       "\n",
       "   Education EducationField  EnvironmentSatisfaction  HourlyRate  \\\n",
       "0          2  Life Sciences                        2          94   \n",
       "1          1  Life Sciences                        3          61   \n",
       "2          2          Other                        4          92   \n",
       "3          4  Life Sciences                        4          56   \n",
       "4          1        Medical                        1          40   \n",
       "\n",
       "   JobInvolvement  ...  PerformanceRating RelationshipSatisfaction  \\\n",
       "0               3  ...                  3                        1   \n",
       "1               2  ...                  4                        4   \n",
       "2               2  ...                  3                        2   \n",
       "3               3  ...                  3                        3   \n",
       "4               3  ...                  3                        4   \n",
       "\n",
       "   StockOptionLevel TotalWorkingYears  TrainingTimesLastYear WorkLifeBalance  \\\n",
       "0                 0                 8                      0               1   \n",
       "1                 1                10                      3               3   \n",
       "2                 0                 7                      3               3   \n",
       "3                 0                 8                      3               3   \n",
       "4                 1                 6                      3               3   \n",
       "\n",
       "   YearsAtCompany  YearsInCurrentRole  YearsSinceLastPromotion  \\\n",
       "0               6                   4                        0   \n",
       "1              10                   7                        1   \n",
       "2               0                   0                        0   \n",
       "3               8                   7                        3   \n",
       "4               2                   2                        2   \n",
       "\n",
       "   YearsWithCurrManager  \n",
       "0                     5  \n",
       "1                     7  \n",
       "2                     0  \n",
       "3                     0  \n",
       "4                     2  \n",
       "\n",
       "[5 rows x 27 columns]"
      ]
     },
     "execution_count": 214,
     "metadata": {},
     "output_type": "execute_result"
    }
   ],
   "source": [
    "# Import our dependencies\n",
    "from sklearn.preprocessing import StandardScaler\n",
    "from sklearn.model_selection import train_test_split\n",
    "import numpy as np\n",
    "import pandas as pd\n",
    "import numpy as np\n",
    "from tensorflow.keras.models import Model\n",
    "from tensorflow.keras import layers\n",
    "from sklearn.compose import ColumnTransformer\n",
    "from sklearn.preprocessing import StandardScaler, OneHotEncoder\n",
    "from tensorflow.keras.layers import Input, Dense\n",
    "from tensorflow.keras.layers import Input, Dense, Concatenate\n",
    "from sklearn.preprocessing import LabelEncoder\n",
    "#  Import and read the attrition data\n",
    "attrition_df = pd.read_csv('https://static.bc-edx.com/ai/ail-v-1-0/m19/lms/datasets/attrition.csv')\n",
    "attrition_df.head()"
   ]
  },
  {
   "cell_type": "code",
   "execution_count": 215,
   "metadata": {
    "colab": {
     "base_uri": "https://localhost:8080/"
    },
    "id": "g22aQSY4Gc3Q",
    "outputId": "1f5c13c1-b981-4e40-a7ed-dd3fe6f1b81e"
   },
   "outputs": [
    {
     "data": {
      "text/plain": [
       "Age                         43\n",
       "Attrition                    2\n",
       "BusinessTravel               3\n",
       "Department                   3\n",
       "DistanceFromHome            29\n",
       "Education                    5\n",
       "EducationField               6\n",
       "EnvironmentSatisfaction      4\n",
       "HourlyRate                  71\n",
       "JobInvolvement               4\n",
       "JobLevel                     5\n",
       "JobRole                      9\n",
       "JobSatisfaction              4\n",
       "MaritalStatus                3\n",
       "NumCompaniesWorked          10\n",
       "OverTime                     2\n",
       "PercentSalaryHike           15\n",
       "PerformanceRating            2\n",
       "RelationshipSatisfaction     4\n",
       "StockOptionLevel             4\n",
       "TotalWorkingYears           40\n",
       "TrainingTimesLastYear        7\n",
       "WorkLifeBalance              4\n",
       "YearsAtCompany              37\n",
       "YearsInCurrentRole          19\n",
       "YearsSinceLastPromotion     16\n",
       "YearsWithCurrManager        18\n",
       "dtype: int64"
      ]
     },
     "execution_count": 215,
     "metadata": {},
     "output_type": "execute_result"
    }
   ],
   "source": [
    "# Determine the number of unique values in each column.\n",
    "attrition_df.nunique()"
   ]
  },
  {
   "cell_type": "code",
   "execution_count": 216,
   "metadata": {
    "id": "50vMgBEnJbfM"
   },
   "outputs": [
    {
     "data": {
      "text/html": [
       "<div>\n",
       "<style scoped>\n",
       "    .dataframe tbody tr th:only-of-type {\n",
       "        vertical-align: middle;\n",
       "    }\n",
       "\n",
       "    .dataframe tbody tr th {\n",
       "        vertical-align: top;\n",
       "    }\n",
       "\n",
       "    .dataframe thead th {\n",
       "        text-align: right;\n",
       "    }\n",
       "</style>\n",
       "<table border=\"1\" class=\"dataframe\">\n",
       "  <thead>\n",
       "    <tr style=\"text-align: right;\">\n",
       "      <th></th>\n",
       "      <th>Attrition</th>\n",
       "      <th>Department</th>\n",
       "    </tr>\n",
       "  </thead>\n",
       "  <tbody>\n",
       "    <tr>\n",
       "      <th>0</th>\n",
       "      <td>Yes</td>\n",
       "      <td>Sales</td>\n",
       "    </tr>\n",
       "    <tr>\n",
       "      <th>1</th>\n",
       "      <td>No</td>\n",
       "      <td>Research &amp; Development</td>\n",
       "    </tr>\n",
       "    <tr>\n",
       "      <th>2</th>\n",
       "      <td>Yes</td>\n",
       "      <td>Research &amp; Development</td>\n",
       "    </tr>\n",
       "    <tr>\n",
       "      <th>3</th>\n",
       "      <td>No</td>\n",
       "      <td>Research &amp; Development</td>\n",
       "    </tr>\n",
       "    <tr>\n",
       "      <th>4</th>\n",
       "      <td>No</td>\n",
       "      <td>Research &amp; Development</td>\n",
       "    </tr>\n",
       "  </tbody>\n",
       "</table>\n",
       "</div>"
      ],
      "text/plain": [
       "  Attrition              Department\n",
       "0       Yes                   Sales\n",
       "1        No  Research & Development\n",
       "2       Yes  Research & Development\n",
       "3        No  Research & Development\n",
       "4        No  Research & Development"
      ]
     },
     "execution_count": 216,
     "metadata": {},
     "output_type": "execute_result"
    }
   ],
   "source": [
    "# Create y_df with the Attrition and Department columns\n",
    "y_df=attrition_df[['Attrition', 'Department']]\n",
    "y_df.head()"
   ]
  },
  {
   "cell_type": "code",
   "execution_count": 217,
   "metadata": {
    "colab": {
     "base_uri": "https://localhost:8080/"
    },
    "id": "Virka0zLGc3R",
    "outputId": "dd5aee3a-9458-4ba6-e857-1b234de40915"
   },
   "outputs": [
    {
     "data": {
      "text/plain": [
       "Age                       int64\n",
       "DistanceFromHome          int64\n",
       "Education                 int64\n",
       "JobLevel                  int64\n",
       "Department               object\n",
       "NumCompaniesWorked        int64\n",
       "PercentSalaryHike         int64\n",
       "TotalWorkingYears         int64\n",
       "TrainingTimesLastYear     int64\n",
       "YearsAtCompany            int64\n",
       "dtype: object"
      ]
     },
     "execution_count": 217,
     "metadata": {},
     "output_type": "execute_result"
    }
   ],
   "source": [
    "# Create a list of at least 10 column names to use as X data\n",
    "\n",
    "x_columns = [\n",
    "    'Age', 'DistanceFromHome', 'Education', 'JobLevel', 'Department',\n",
    "    'NumCompaniesWorked', 'PercentSalaryHike', 'TotalWorkingYears',\n",
    "    'TrainingTimesLastYear', 'YearsAtCompany'\n",
    "]\n",
    "\n",
    "# Create X_df using your selected columns\n",
    "x_df = attrition_df[x_columns]\n",
    "\n",
    "# Show the data types for X_df\n",
    "x_df.dtypes"
   ]
  },
  {
   "cell_type": "code",
   "execution_count": 218,
   "metadata": {
    "id": "KaJfdOGUMHMR"
   },
   "outputs": [
    {
     "data": {
      "text/plain": [
       "((984, 10), (486, 10), (984, 2), (486, 2))"
      ]
     },
     "execution_count": 218,
     "metadata": {},
     "output_type": "execute_result"
    }
   ],
   "source": [
    "# Split the data into training and testing sets\n",
    "from sklearn.model_selection import train_test_split\n",
    "\n",
    "X_train, X_test, y_train, y_test = train_test_split(x_df, y_df, test_size=0.33, random_state=42)\n",
    "\n",
    "X_train.shape, X_test.shape, y_train.shape, y_test.shape"
   ]
  },
  {
   "cell_type": "code",
   "execution_count": 219,
   "metadata": {
    "colab": {
     "base_uri": "https://localhost:8080/"
    },
    "id": "NYubUJqiLCSp",
    "outputId": "53f31721-571c-4c94-d13e-25a715749593"
   },
   "outputs": [
    {
     "name": "stdout",
     "output_type": "stream",
     "text": [
      "Converted X Data:\n",
      "   Age  DistanceFromHome  Education  JobLevel  NumCompaniesWorked  \\\n",
      "0   41                 1          2         2                   8   \n",
      "1   49                 8          1         2                   1   \n",
      "2   37                 2          2         1                   6   \n",
      "3   33                 3          4         1                   1   \n",
      "4   27                 2          1         1                   9   \n",
      "\n",
      "   PercentSalaryHike  TotalWorkingYears  TrainingTimesLastYear  \\\n",
      "0                 11                  8                      0   \n",
      "1                 23                 10                      3   \n",
      "2                 15                  7                      3   \n",
      "3                 11                  8                      3   \n",
      "4                 12                  6                      3   \n",
      "\n",
      "   YearsAtCompany  Department_Research & Development  Department_Sales  \n",
      "0               6                              False              True  \n",
      "1              10                               True             False  \n",
      "2               0                               True             False  \n",
      "3               8                               True             False  \n",
      "4               2                               True             False  \n",
      "Data Types After Conversion:\n",
      "Age                                  int64\n",
      "DistanceFromHome                     int64\n",
      "Education                            int64\n",
      "JobLevel                             int64\n",
      "NumCompaniesWorked                   int64\n",
      "PercentSalaryHike                    int64\n",
      "TotalWorkingYears                    int64\n",
      "TrainingTimesLastYear                int64\n",
      "YearsAtCompany                       int64\n",
      "Department_Research & Development     bool\n",
      "Department_Sales                      bool\n",
      "dtype: object\n"
     ]
    }
   ],
   "source": [
    "# Convert your X data to numeric data types however you see fit\n",
    "X_df_numeric = pd.get_dummies(x_df, drop_first=True)\n",
    "\n",
    "# Display the converted DataFrame\n",
    "print(\"Converted X Data:\")\n",
    "print(X_df_numeric.head())\n",
    "\n",
    "# Display the data types after conversion\n",
    "print(\"Data Types After Conversion:\")\n",
    "print(X_df_numeric.dtypes)\n",
    "# Add new code cells as necessary\n"
   ]
  },
  {
   "cell_type": "code",
   "execution_count": 220,
   "metadata": {},
   "outputs": [
    {
     "name": "stdout",
     "output_type": "stream",
     "text": [
      "Categorical columns: Index(['Department'], dtype='object')\n"
     ]
    },
    {
     "data": {
      "text/plain": [
       "((984, 46), (486, 46))"
      ]
     },
     "execution_count": 220,
     "metadata": {},
     "output_type": "execute_result"
    }
   ],
   "source": [
    "# Define features and target\n",
    "categorical_columns = x_df.select_dtypes(include=[\"object\"]).columns\n",
    "\n",
    "# Display the categorical columns\n",
    "print(\"Categorical columns:\", categorical_columns)\n",
    "X = attrition_df.drop(\"Attrition\", axis=1)\n",
    "y = attrition_df[\"Attrition\"]\n",
    "\n",
    "# Identify numeric and categorical columns\n",
    "numeric_columns = X.select_dtypes(include=['int64', 'float64']).columns\n",
    "categorical_columns = X.select_dtypes(include=['object']).columns\n",
    "\n",
    "# Split the data into training and testing sets\n",
    "X_train, X_test, y_train, y_test = train_test_split(X, y, test_size=0.33, random_state=42)\n",
    "\n",
    "# Create a column transformer\n",
    "preprocessor = ColumnTransformer(\n",
    "    transformers=[\n",
    "        (\"num\", StandardScaler(), numeric_columns),  # Scale numeric columns\n",
    "        (\"cat\", OneHotEncoder(handle_unknown=\"ignore\"), categorical_columns),  # Encode categorical featur\n",
    "    ]\n",
    ")\n",
    "\n",
    "# Apply the preprocessor to transform the training and testing data\n",
    "X_train_transformed = preprocessor.fit_transform(X_train)\n",
    "X_test_transformed = preprocessor.transform(X_test)\n",
    "\n",
    "# Display the transformed data shapes\n",
    "X_train_transformed.shape, X_test_transformed.shape\n"
   ]
  },
  {
   "cell_type": "code",
   "execution_count": 221,
   "metadata": {
    "id": "EWA-aIA5Gc3T"
   },
   "outputs": [
    {
     "name": "stdout",
     "output_type": "stream",
     "text": [
      "StandardScaler()\n",
      "(80, 5) (20, 5)\n"
     ]
    }
   ],
   "source": [
    "from sklearn.preprocessing import StandardScaler\n",
    "from sklearn.model_selection import train_test_split\n",
    "import numpy as np\n",
    "\n",
    "# Create a StandardScaler instance\n",
    "scaler = StandardScaler()\n",
    "\n",
    "# Display the scaler instance\n",
    "print(scaler)\n",
    "X = np.random.rand(100, 5)  \n",
    "X_train, X_test = train_test_split(X, test_size=0.2, random_state=42)\n",
    "\n",
    "# Fit the StandardScaler to the training data and transform it\n",
    "X_train_scaled = scaler.fit_transform(X_train)\n",
    "\n",
    "# Scale the testing data using the fitted scaler\n",
    "X_test_scaled = scaler.transform(X_test)\n",
    "\n",
    "# Print the shapes of the scaled training and testing data\n",
    "print(X_train_scaled.shape, X_test_scaled.shape)"
   ]
  },
  {
   "cell_type": "code",
   "execution_count": 222,
   "metadata": {},
   "outputs": [],
   "source": [
    "# Split into train and test sets (assuming data is structured this way)\n",
    "file_path = ('https://static.bc-edx.com/ai/ail-v-1-0/m19/lms/datasets/attrition.csv')\n",
    "data = pd.read_csv(file_path)\n",
    "attrition_df = pd.read_csv('https://static.bc-edx.com/ai/ail-v-1-0/m19/lms/datasets/attrition.csv')\n",
    "X = data.drop(columns=['Attrition'])  # Example: Removing the target variable\n",
    "y = data['Attrition']\n",
    "X_train, X_test, y_train, y_test = train_test_split(X, y, test_size=0.2, random_state=42)\n",
    "\n",
    "# Mapping for Department column\n",
    "department_mapping = {\n",
    "    'Sales': 0,\n",
    "    'Research & Development': 1,\n",
    "    'Human Resources': 2\n",
    "}\n",
    "X_train['Department'] = X_train['Department'].map(department_mapping)"
   ]
  },
  {
   "cell_type": "code",
   "execution_count": 223,
   "metadata": {
    "colab": {
     "base_uri": "https://localhost:8080/"
    },
    "id": "-z0Mky8vQSz4",
    "outputId": "debefc85-c20b-48f5-f4d9-91eadd65d36a"
   },
   "outputs": [
    {
     "ename": "TypeError",
     "evalue": "'<' not supported between instances of 'str' and 'int'",
     "output_type": "error",
     "traceback": [
      "\u001b[1;31m---------------------------------------------------------------------------\u001b[0m",
      "\u001b[1;31mTypeError\u001b[0m                                 Traceback (most recent call last)",
      "Cell \u001b[1;32mIn[223], line 3\u001b[0m\n\u001b[0;32m      1\u001b[0m \u001b[38;5;66;03m# Create a OneHotEncoder for the Department column\u001b[39;00m\n\u001b[0;32m      2\u001b[0m \u001b[38;5;66;03m#encoder = OneHotEncoder(sparse=False, drop=None)\u001b[39;00m\n\u001b[1;32m----> 3\u001b[0m all_categories \u001b[38;5;241m=\u001b[39m \u001b[43mnp\u001b[49m\u001b[38;5;241;43m.\u001b[39;49m\u001b[43munique\u001b[49m\u001b[43m(\u001b[49m\n\u001b[0;32m      4\u001b[0m \u001b[43m    \u001b[49m\u001b[43mnp\u001b[49m\u001b[38;5;241;43m.\u001b[39;49m\u001b[43mconcatenate\u001b[49m\u001b[43m(\u001b[49m\u001b[43m[\u001b[49m\u001b[43mX_train\u001b[49m\u001b[43m[\u001b[49m\u001b[38;5;124;43m'\u001b[39;49m\u001b[38;5;124;43mDepartment\u001b[39;49m\u001b[38;5;124;43m'\u001b[39;49m\u001b[43m]\u001b[49m\u001b[38;5;241;43m.\u001b[39;49m\u001b[43mto_numpy\u001b[49m\u001b[43m(\u001b[49m\u001b[43m)\u001b[49m\u001b[43m,\u001b[49m\u001b[43m \u001b[49m\u001b[43mX_test\u001b[49m\u001b[43m[\u001b[49m\u001b[38;5;124;43m'\u001b[39;49m\u001b[38;5;124;43mDepartment\u001b[39;49m\u001b[38;5;124;43m'\u001b[39;49m\u001b[43m]\u001b[49m\u001b[38;5;241;43m.\u001b[39;49m\u001b[43mto_numpy\u001b[49m\u001b[43m(\u001b[49m\u001b[43m)\u001b[49m\u001b[43m]\u001b[49m\u001b[43m)\u001b[49m\n\u001b[0;32m      5\u001b[0m \u001b[43m)\u001b[49m\u001b[38;5;241m.\u001b[39mreshape(\u001b[38;5;241m-\u001b[39m\u001b[38;5;241m1\u001b[39m, \u001b[38;5;241m1\u001b[39m)\n\u001b[0;32m      7\u001b[0m department_mapping \u001b[38;5;241m=\u001b[39m {\n\u001b[0;32m      8\u001b[0m     \u001b[38;5;124m'\u001b[39m\u001b[38;5;124mSales\u001b[39m\u001b[38;5;124m'\u001b[39m: \u001b[38;5;241m0\u001b[39m,\n\u001b[0;32m      9\u001b[0m     \u001b[38;5;124m'\u001b[39m\u001b[38;5;124mResearch & Development\u001b[39m\u001b[38;5;124m'\u001b[39m: \u001b[38;5;241m1\u001b[39m,\n\u001b[0;32m     10\u001b[0m     \u001b[38;5;124m'\u001b[39m\u001b[38;5;124mHuman Resources\u001b[39m\u001b[38;5;124m'\u001b[39m: \u001b[38;5;241m2\u001b[39m\n\u001b[0;32m     11\u001b[0m }\n\u001b[0;32m     12\u001b[0m X_train[\u001b[38;5;124m'\u001b[39m\u001b[38;5;124mDepartment\u001b[39m\u001b[38;5;124m'\u001b[39m] \u001b[38;5;241m=\u001b[39m X_train[\u001b[38;5;124m'\u001b[39m\u001b[38;5;124mDepartment\u001b[39m\u001b[38;5;124m'\u001b[39m]\u001b[38;5;241m.\u001b[39mastype(\u001b[38;5;28mstr\u001b[39m)\n",
      "File \u001b[1;32m~\\anaconda3\\envs\\dev\\lib\\site-packages\\numpy\\lib\\arraysetops.py:274\u001b[0m, in \u001b[0;36munique\u001b[1;34m(ar, return_index, return_inverse, return_counts, axis, equal_nan)\u001b[0m\n\u001b[0;32m    272\u001b[0m ar \u001b[38;5;241m=\u001b[39m np\u001b[38;5;241m.\u001b[39masanyarray(ar)\n\u001b[0;32m    273\u001b[0m \u001b[38;5;28;01mif\u001b[39;00m axis \u001b[38;5;129;01mis\u001b[39;00m \u001b[38;5;28;01mNone\u001b[39;00m:\n\u001b[1;32m--> 274\u001b[0m     ret \u001b[38;5;241m=\u001b[39m \u001b[43m_unique1d\u001b[49m\u001b[43m(\u001b[49m\u001b[43mar\u001b[49m\u001b[43m,\u001b[49m\u001b[43m \u001b[49m\u001b[43mreturn_index\u001b[49m\u001b[43m,\u001b[49m\u001b[43m \u001b[49m\u001b[43mreturn_inverse\u001b[49m\u001b[43m,\u001b[49m\u001b[43m \u001b[49m\u001b[43mreturn_counts\u001b[49m\u001b[43m,\u001b[49m\u001b[43m \u001b[49m\n\u001b[0;32m    275\u001b[0m \u001b[43m                    \u001b[49m\u001b[43mequal_nan\u001b[49m\u001b[38;5;241;43m=\u001b[39;49m\u001b[43mequal_nan\u001b[49m\u001b[43m)\u001b[49m\n\u001b[0;32m    276\u001b[0m     \u001b[38;5;28;01mreturn\u001b[39;00m _unpack_tuple(ret)\n\u001b[0;32m    278\u001b[0m \u001b[38;5;66;03m# axis was specified and not None\u001b[39;00m\n",
      "File \u001b[1;32m~\\anaconda3\\envs\\dev\\lib\\site-packages\\numpy\\lib\\arraysetops.py:336\u001b[0m, in \u001b[0;36m_unique1d\u001b[1;34m(ar, return_index, return_inverse, return_counts, equal_nan)\u001b[0m\n\u001b[0;32m    334\u001b[0m     aux \u001b[38;5;241m=\u001b[39m ar[perm]\n\u001b[0;32m    335\u001b[0m \u001b[38;5;28;01melse\u001b[39;00m:\n\u001b[1;32m--> 336\u001b[0m     \u001b[43mar\u001b[49m\u001b[38;5;241;43m.\u001b[39;49m\u001b[43msort\u001b[49m\u001b[43m(\u001b[49m\u001b[43m)\u001b[49m\n\u001b[0;32m    337\u001b[0m     aux \u001b[38;5;241m=\u001b[39m ar\n\u001b[0;32m    338\u001b[0m mask \u001b[38;5;241m=\u001b[39m np\u001b[38;5;241m.\u001b[39mempty(aux\u001b[38;5;241m.\u001b[39mshape, dtype\u001b[38;5;241m=\u001b[39mnp\u001b[38;5;241m.\u001b[39mbool_)\n",
      "\u001b[1;31mTypeError\u001b[0m: '<' not supported between instances of 'str' and 'int'"
     ]
    }
   ],
   "source": [
    "# Create a OneHotEncoder for the Department column\n",
    "#encoder = OneHotEncoder(sparse=False, drop=None)\n",
    "all_categories = np.unique(\n",
    "    np.concatenate([X_train['Department'].to_numpy(), X_test['Department'].to_numpy()])\n",
    ").reshape(-1, 1)\n",
    "\n",
    "department_mapping = {\n",
    "    'Sales': 0,\n",
    "    'Research & Development': 1,\n",
    "    'Human Resources': 2\n",
    "}\n",
    "X_train['Department'] = X_train['Department'].astype(str)\n",
    "X_test['Department'] = X_test['Department'].astype(str)\n",
    "encoder = OneHotEncoder(sparse_output=False, drop=None)  # Use sparse_output instead of sparse gpt\n",
    "\n",
    "#encoder = OneHotEncoder(sparse_output=False, drop=None)\n",
    "department_column = X_train[['Department']]  # Ensure it's a DataFrame\n",
    "encoder.fit(department_column)\n",
    "encoder.fit(all_categories)\n",
    "# Fit the encoder to the training data\n",
    "\n",
    "# Create two new variables by applying the encoder\n",
    "# to the training and testing data\n",
    "X_train_encoded = encoder.transform(X_train[['Department']])  # Training data encoded\n",
    "X_test_encoded = encoder.transform(X_test[['Department']])    # Testing data encoded\n"
   ]
  },
  {
   "cell_type": "code",
   "execution_count": null,
   "metadata": {
    "colab": {
     "base_uri": "https://localhost:8080/"
    },
    "id": "-G4DSpvFRrk4",
    "outputId": "9842e948-8a55-4b80-8fac-f96714e85589"
   },
   "outputs": [],
   "source": [
    "# Create a OneHotEncoder for the Attrition column\n",
    "\n",
    "encoder = OneHotEncoder(sparse_output=False, drop=None, handle_unknown='ignore')\n",
    "encoder.fit(data[['Attrition']])\n",
    "\n",
    "X_train['Attrition'] = data.loc[X_train.index, 'Attrition']\n",
    "X_test['Attrition'] = data.loc[X_test.index, 'Attrition']\n",
    "\n",
    "# Fit the encoder to the training data\n",
    "X_train_attrition_encoded = encoder.transform(X_train[['Attrition']])\n",
    "X_test_attrition_encoded = encoder.transform(X_test[['Attrition']])\n",
    "\n",
    "X_train_attrition_encoded_df = pd.DataFrame(\n",
    "    X_train_attrition_encoded, \n",
    "    columns=encoder.get_feature_names_out(['Attrition'])\n",
    ")\n",
    "\n",
    "# Create two new variables by applying the encoder\n",
    "# to the training and testing data\n",
    "y_train_encoded = encoder.transform(y_train.values.reshape(-1, 1))\n",
    "y_test_encoded = encoder.transform(y_test.values.reshape(-1, 1))\n",
    "\n",
    "\n",
    "y_train_encoded_df = pd.DataFrame(\n",
    "    y_train_encoded, \n",
    "    columns=encoder.get_feature_names_out(['Attrition'])\n",
    ")\n",
    "\n",
    "y_test_encoded_df = pd.DataFrame(\n",
    "    y_test_encoded, \n",
    "    columns=encoder.get_feature_names_out(['Attrition'])\n",
    ")"
   ]
  },
  {
   "cell_type": "markdown",
   "metadata": {
    "id": "ykNmu_WWGc3T"
   },
   "source": [
    "## Create, Compile, and Train the Model"
   ]
  },
  {
   "cell_type": "code",
   "execution_count": 224,
   "metadata": {
    "id": "WUptZqmSGc3T"
   },
   "outputs": [
    {
     "name": "stdout",
     "output_type": "stream",
     "text": [
      "The number of columns in the training data (X_train) is: 26\n",
      "KerasTensor(type_spec=TensorSpec(shape=(None, 26), dtype=tf.float32, name='input1'), name='input1', description=\"created by layer 'input1'\") KerasTensor(type_spec=TensorSpec(shape=(None, 26), dtype=tf.float32, name='input2'), name='input2', description=\"created by layer 'input2'\")\n"
     ]
    }
   ],
   "source": [
    "# Find the number of columns in the X training data\n",
    "num_columns = X_train.shape[1]\n",
    "\n",
    "print(f\"The number of columns in the training data (X_train) is: {num_columns}\")\n",
    "\n",
    "# Create the input layer\n",
    "input_layer = Input(shape=(num_columns,))\n",
    "\n",
    "# Create at least two shared layers\n",
    "input1 = Input(shape=(num_columns,), name='input1')\n",
    "input2 = Input(shape=(num_columns,), name='input2')\n",
    "print(input1,input2)\n"
   ]
  },
  {
   "cell_type": "code",
   "execution_count": 225,
   "metadata": {
    "id": "JukjTm2yTEqd",
    "scrolled": true
   },
   "outputs": [
    {
     "name": "stdout",
     "output_type": "stream",
     "text": [
      "Model: \"department_branch\"\n",
      "_________________________________________________________________\n",
      " Layer (type)                Output Shape              Param #   \n",
      "=================================================================\n",
      " department_input (InputLaye  [(None, 3)]              0         \n",
      " r)                                                              \n",
      "                                                                 \n",
      " department_hidden (Dense)   (None, 32)                128       \n",
      "                                                                 \n",
      " department_output (Dense)   (None, 16)                528       \n",
      "                                                                 \n",
      "=================================================================\n",
      "Total params: 656\n",
      "Trainable params: 656\n",
      "Non-trainable params: 0\n",
      "_________________________________________________________________\n"
     ]
    }
   ],
   "source": [
    "# Create a branch for Department\n",
    "# with a hidden layer and an output layer\n",
    "X_train_department_encoded = encoder.fit_transform(X_train[['Department']])\n",
    "num_department_categories = X_train_department_encoded.shape[1]\n",
    "department_input = Input(shape=(num_department_categories,), name='department_input')\n",
    "department_hidden = Dense(32, activation='relu', name='department_hidden')(department_input)\n",
    "department_output = Dense(16, activation='relu', name='department_output')(department_hidden)\n",
    "department_branch = Model(inputs=department_input, outputs=department_output, name='department_branch')\n",
    "\n",
    "# Create the hidden layer\n",
    "department_hidden = Dense(32, activation='relu', name='department_hidden')(department_input)\n",
    "department_branch.summary()\n",
    "# Create the output layer\n",
    "\n"
   ]
  },
  {
   "cell_type": "code",
   "execution_count": 226,
   "metadata": {
    "id": "9OqhUiOJUBkR"
   },
   "outputs": [],
   "source": [
    "# Create a branch for Attrition\n",
    "# with a hidden layer and an output layer\n",
    "attrition_input = Input(shape=(2,), name='attrition_input')\n",
    "\n",
    "# Create the hidden layer\n",
    "attrition_hidden = Dense(32, activation='relu', name='attrition_hidden')(attrition_input)\n",
    "# Create the output layer\n",
    "attrition_output = Dense(16, activation='relu', name='attrition_output')(attrition_hidden)\n"
   ]
  },
  {
   "cell_type": "code",
   "execution_count": 227,
   "metadata": {
    "colab": {
     "base_uri": "https://localhost:8080/"
    },
    "id": "twmuejdxGc3T",
    "outputId": "25096308-b68b-42e4-e4ea-ae82e97c435a"
   },
   "outputs": [
    {
     "name": "stdout",
     "output_type": "stream",
     "text": [
      "Model: \"attrition_department_model\"\n",
      "__________________________________________________________________________________________________\n",
      " Layer (type)                   Output Shape         Param #     Connected to                     \n",
      "==================================================================================================\n",
      " attrition_input (InputLayer)   [(None, 2)]          0           []                               \n",
      "                                                                                                  \n",
      " department_input (InputLayer)  [(None, 3)]          0           []                               \n",
      "                                                                                                  \n",
      " attrition_hidden (Dense)       (None, 32)           96          ['attrition_input[0][0]']        \n",
      "                                                                                                  \n",
      " department_hidden (Dense)      (None, 32)           128         ['department_input[0][0]']       \n",
      "                                                                                                  \n",
      " attrition_output (Dense)       (None, 16)           528         ['attrition_hidden[0][0]']       \n",
      "                                                                                                  \n",
      " department_output (Dense)      (None, 16)           528         ['department_hidden[0][0]']      \n",
      "                                                                                                  \n",
      " combined_layer (Concatenate)   (None, 32)           0           ['attrition_output[0][0]',       \n",
      "                                                                  'department_output[0][0]']      \n",
      "                                                                                                  \n",
      " final_output (Dense)           (None, 1)            33          ['combined_layer[0][0]']         \n",
      "                                                                                                  \n",
      "==================================================================================================\n",
      "Total params: 1,313\n",
      "Trainable params: 1,313\n",
      "Non-trainable params: 0\n",
      "__________________________________________________________________________________________________\n",
      "Model compiled successfully.\n"
     ]
    }
   ],
   "source": [
    "# Create the model\n",
    "# Create the full model\n",
    "combined = Concatenate(name='combined_layer')([attrition_output, department_output])\n",
    "final_output = Dense(1, activation='sigmoid', name='final_output')(combined)\n",
    "model = Model(inputs=[attrition_input, department_input], outputs=final_output, name='attrition_department_model')\n",
    "\n",
    "# Display the model summary\n",
    "model.summary()\n",
    "\n",
    "\n",
    "# Compile the model\n",
    "model.compile(\n",
    "    optimizer='adam',                 # Optimizer\n",
    "    loss='binary_crossentropy',       # Loss function for binary classification\n",
    "    metrics=['accuracy']              # Metrics to monitor\n",
    ")\n",
    "\n",
    "print(\"Model compiled successfully.\")\n",
    "# Summarize the model\n"
   ]
  },
  {
   "cell_type": "code",
   "execution_count": 228,
   "metadata": {
    "colab": {
     "base_uri": "https://localhost:8080/"
    },
    "id": "c8oGy0dpGc3U",
    "outputId": "cc667d43-28cf-42d4-d719-c2bc02888d30",
    "scrolled": true
   },
   "outputs": [
    {
     "name": "stdout",
     "output_type": "stream",
     "text": [
      "(294, 2)\n",
      "(294, 3)\n",
      "(294,)\n",
      "Epoch 1/100\n",
      "37/37 [==============================] - 1s 7ms/step - loss: 0.6042 - accuracy: 0.8325 - val_loss: 0.5465 - val_accuracy: 1.0000\n",
      "Epoch 2/100\n",
      "37/37 [==============================] - 0s 2ms/step - loss: 0.4241 - accuracy: 0.8401 - val_loss: 0.3884 - val_accuracy: 1.0000\n",
      "Epoch 3/100\n",
      "37/37 [==============================] - 0s 2ms/step - loss: 0.2833 - accuracy: 0.8469 - val_loss: 0.2577 - val_accuracy: 1.0000\n",
      "Epoch 4/100\n",
      "37/37 [==============================] - 0s 2ms/step - loss: 0.1796 - accuracy: 0.9906 - val_loss: 0.1671 - val_accuracy: 1.0000\n",
      "Epoch 5/100\n",
      "37/37 [==============================] - 0s 2ms/step - loss: 0.1007 - accuracy: 1.0000 - val_loss: 0.1007 - val_accuracy: 1.0000\n",
      "Epoch 6/100\n",
      "37/37 [==============================] - 0s 2ms/step - loss: 0.0541 - accuracy: 1.0000 - val_loss: 0.0613 - val_accuracy: 1.0000\n",
      "Epoch 7/100\n",
      "37/37 [==============================] - 0s 2ms/step - loss: 0.0312 - accuracy: 1.0000 - val_loss: 0.0401 - val_accuracy: 1.0000\n",
      "Epoch 8/100\n",
      "37/37 [==============================] - 0s 2ms/step - loss: 0.0196 - accuracy: 1.0000 - val_loss: 0.0279 - val_accuracy: 1.0000\n",
      "Epoch 9/100\n",
      "37/37 [==============================] - 0s 2ms/step - loss: 0.0133 - accuracy: 1.0000 - val_loss: 0.0205 - val_accuracy: 1.0000\n",
      "Epoch 10/100\n",
      "37/37 [==============================] - 0s 2ms/step - loss: 0.0096 - accuracy: 1.0000 - val_loss: 0.0158 - val_accuracy: 1.0000\n",
      "Epoch 11/100\n",
      "37/37 [==============================] - 0s 2ms/step - loss: 0.0072 - accuracy: 1.0000 - val_loss: 0.0125 - val_accuracy: 1.0000\n",
      "Epoch 12/100\n",
      "37/37 [==============================] - 0s 2ms/step - loss: 0.0056 - accuracy: 1.0000 - val_loss: 0.0101 - val_accuracy: 1.0000\n",
      "Epoch 13/100\n",
      "37/37 [==============================] - 0s 2ms/step - loss: 0.0045 - accuracy: 1.0000 - val_loss: 0.0084 - val_accuracy: 1.0000\n",
      "Epoch 14/100\n",
      "37/37 [==============================] - 0s 2ms/step - loss: 0.0037 - accuracy: 1.0000 - val_loss: 0.0070 - val_accuracy: 1.0000\n",
      "Epoch 15/100\n",
      "37/37 [==============================] - 0s 2ms/step - loss: 0.0030 - accuracy: 1.0000 - val_loss: 0.0057 - val_accuracy: 1.0000\n",
      "Epoch 16/100\n",
      "37/37 [==============================] - 0s 2ms/step - loss: 0.0025 - accuracy: 1.0000 - val_loss: 0.0049 - val_accuracy: 1.0000\n",
      "Epoch 17/100\n",
      "37/37 [==============================] - 0s 2ms/step - loss: 0.0021 - accuracy: 1.0000 - val_loss: 0.0043 - val_accuracy: 1.0000\n",
      "Epoch 18/100\n",
      "37/37 [==============================] - 0s 2ms/step - loss: 0.0018 - accuracy: 1.0000 - val_loss: 0.0038 - val_accuracy: 1.0000\n",
      "Epoch 19/100\n",
      "37/37 [==============================] - 0s 2ms/step - loss: 0.0016 - accuracy: 1.0000 - val_loss: 0.0034 - val_accuracy: 1.0000\n",
      "Epoch 20/100\n",
      "37/37 [==============================] - 0s 2ms/step - loss: 0.0014 - accuracy: 1.0000 - val_loss: 0.0031 - val_accuracy: 1.0000\n",
      "Epoch 21/100\n",
      "37/37 [==============================] - 0s 2ms/step - loss: 0.0012 - accuracy: 1.0000 - val_loss: 0.0028 - val_accuracy: 1.0000\n",
      "Epoch 22/100\n",
      "37/37 [==============================] - 0s 2ms/step - loss: 0.0011 - accuracy: 1.0000 - val_loss: 0.0025 - val_accuracy: 1.0000\n",
      "Epoch 23/100\n",
      "37/37 [==============================] - 0s 2ms/step - loss: 9.7408e-04 - accuracy: 1.0000 - val_loss: 0.0023 - val_accuracy: 1.0000\n",
      "Epoch 24/100\n",
      "37/37 [==============================] - 0s 3ms/step - loss: 8.7637e-04 - accuracy: 1.0000 - val_loss: 0.0021 - val_accuracy: 1.0000\n",
      "Epoch 25/100\n",
      "37/37 [==============================] - 0s 2ms/step - loss: 7.9302e-04 - accuracy: 1.0000 - val_loss: 0.0020 - val_accuracy: 1.0000\n",
      "Epoch 26/100\n",
      "37/37 [==============================] - 0s 2ms/step - loss: 7.1995e-04 - accuracy: 1.0000 - val_loss: 0.0018 - val_accuracy: 1.0000\n",
      "Epoch 27/100\n",
      "37/37 [==============================] - 0s 2ms/step - loss: 6.5677e-04 - accuracy: 1.0000 - val_loss: 0.0017 - val_accuracy: 1.0000\n",
      "Epoch 28/100\n",
      "37/37 [==============================] - 0s 2ms/step - loss: 6.0140e-04 - accuracy: 1.0000 - val_loss: 0.0016 - val_accuracy: 1.0000\n",
      "Epoch 29/100\n",
      "37/37 [==============================] - 0s 2ms/step - loss: 5.5230e-04 - accuracy: 1.0000 - val_loss: 0.0015 - val_accuracy: 1.0000\n",
      "Epoch 30/100\n",
      "37/37 [==============================] - 0s 2ms/step - loss: 5.0942e-04 - accuracy: 1.0000 - val_loss: 0.0014 - val_accuracy: 1.0000\n",
      "Epoch 31/100\n",
      "37/37 [==============================] - 0s 2ms/step - loss: 4.7026e-04 - accuracy: 1.0000 - val_loss: 0.0013 - val_accuracy: 1.0000\n",
      "Epoch 32/100\n",
      "37/37 [==============================] - 0s 2ms/step - loss: 4.3602e-04 - accuracy: 1.0000 - val_loss: 0.0012 - val_accuracy: 1.0000\n",
      "Epoch 33/100\n",
      "37/37 [==============================] - 0s 2ms/step - loss: 4.0509e-04 - accuracy: 1.0000 - val_loss: 0.0011 - val_accuracy: 1.0000\n",
      "Epoch 34/100\n",
      "37/37 [==============================] - 0s 2ms/step - loss: 3.7700e-04 - accuracy: 1.0000 - val_loss: 0.0011 - val_accuracy: 1.0000\n",
      "Epoch 35/100\n",
      "37/37 [==============================] - 0s 2ms/step - loss: 3.5179e-04 - accuracy: 1.0000 - val_loss: 0.0010 - val_accuracy: 1.0000\n",
      "Epoch 36/100\n",
      "37/37 [==============================] - 0s 2ms/step - loss: 3.2885e-04 - accuracy: 1.0000 - val_loss: 9.6874e-04 - val_accuracy: 1.0000\n",
      "Epoch 37/100\n",
      "37/37 [==============================] - 0s 3ms/step - loss: 3.0807e-04 - accuracy: 1.0000 - val_loss: 9.2197e-04 - val_accuracy: 1.0000\n",
      "Epoch 38/100\n",
      "37/37 [==============================] - 0s 3ms/step - loss: 2.8900e-04 - accuracy: 1.0000 - val_loss: 8.7188e-04 - val_accuracy: 1.0000\n",
      "Epoch 39/100\n",
      "37/37 [==============================] - 0s 3ms/step - loss: 2.7160e-04 - accuracy: 1.0000 - val_loss: 8.3170e-04 - val_accuracy: 1.0000\n",
      "Epoch 40/100\n",
      "37/37 [==============================] - 0s 3ms/step - loss: 2.5562e-04 - accuracy: 1.0000 - val_loss: 7.9342e-04 - val_accuracy: 1.0000\n",
      "Epoch 41/100\n",
      "37/37 [==============================] - 0s 2ms/step - loss: 2.4098e-04 - accuracy: 1.0000 - val_loss: 7.5751e-04 - val_accuracy: 1.0000\n",
      "Epoch 42/100\n",
      "37/37 [==============================] - 0s 2ms/step - loss: 2.2746e-04 - accuracy: 1.0000 - val_loss: 7.2270e-04 - val_accuracy: 1.0000\n",
      "Epoch 43/100\n",
      "37/37 [==============================] - 0s 2ms/step - loss: 2.1502e-04 - accuracy: 1.0000 - val_loss: 6.9016e-04 - val_accuracy: 1.0000\n",
      "Epoch 44/100\n",
      "37/37 [==============================] - 0s 2ms/step - loss: 2.0338e-04 - accuracy: 1.0000 - val_loss: 6.5862e-04 - val_accuracy: 1.0000\n",
      "Epoch 45/100\n",
      "37/37 [==============================] - 0s 2ms/step - loss: 1.9264e-04 - accuracy: 1.0000 - val_loss: 6.3347e-04 - val_accuracy: 1.0000\n",
      "Epoch 46/100\n",
      "37/37 [==============================] - 0s 2ms/step - loss: 1.8249e-04 - accuracy: 1.0000 - val_loss: 6.1378e-04 - val_accuracy: 1.0000\n",
      "Epoch 47/100\n",
      "37/37 [==============================] - 0s 2ms/step - loss: 1.7315e-04 - accuracy: 1.0000 - val_loss: 5.8780e-04 - val_accuracy: 1.0000\n",
      "Epoch 48/100\n",
      "37/37 [==============================] - 0s 2ms/step - loss: 1.6455e-04 - accuracy: 1.0000 - val_loss: 5.6646e-04 - val_accuracy: 1.0000\n",
      "Epoch 49/100\n",
      "37/37 [==============================] - 0s 2ms/step - loss: 1.5655e-04 - accuracy: 1.0000 - val_loss: 5.4448e-04 - val_accuracy: 1.0000\n",
      "Epoch 50/100\n",
      "37/37 [==============================] - 0s 2ms/step - loss: 1.4903e-04 - accuracy: 1.0000 - val_loss: 5.2565e-04 - val_accuracy: 1.0000\n",
      "Epoch 51/100\n",
      "37/37 [==============================] - 0s 2ms/step - loss: 1.4202e-04 - accuracy: 1.0000 - val_loss: 5.0767e-04 - val_accuracy: 1.0000\n",
      "Epoch 52/100\n",
      "37/37 [==============================] - 0s 2ms/step - loss: 1.3539e-04 - accuracy: 1.0000 - val_loss: 4.8852e-04 - val_accuracy: 1.0000\n",
      "Epoch 53/100\n",
      "37/37 [==============================] - 0s 2ms/step - loss: 1.2924e-04 - accuracy: 1.0000 - val_loss: 4.7066e-04 - val_accuracy: 1.0000\n",
      "Epoch 54/100\n",
      "37/37 [==============================] - 0s 2ms/step - loss: 1.2347e-04 - accuracy: 1.0000 - val_loss: 4.5532e-04 - val_accuracy: 1.0000\n",
      "Epoch 55/100\n",
      "37/37 [==============================] - 0s 2ms/step - loss: 1.1799e-04 - accuracy: 1.0000 - val_loss: 4.3922e-04 - val_accuracy: 1.0000\n",
      "Epoch 56/100\n",
      "37/37 [==============================] - 0s 2ms/step - loss: 1.1284e-04 - accuracy: 1.0000 - val_loss: 4.2548e-04 - val_accuracy: 1.0000\n",
      "Epoch 57/100\n",
      "37/37 [==============================] - 0s 2ms/step - loss: 1.0801e-04 - accuracy: 1.0000 - val_loss: 4.1132e-04 - val_accuracy: 1.0000\n",
      "Epoch 58/100\n",
      "37/37 [==============================] - 0s 2ms/step - loss: 1.0344e-04 - accuracy: 1.0000 - val_loss: 3.9753e-04 - val_accuracy: 1.0000\n",
      "Epoch 59/100\n",
      "37/37 [==============================] - 0s 2ms/step - loss: 9.9143e-05 - accuracy: 1.0000 - val_loss: 3.8541e-04 - val_accuracy: 1.0000\n",
      "Epoch 60/100\n",
      "37/37 [==============================] - 0s 2ms/step - loss: 9.5077e-05 - accuracy: 1.0000 - val_loss: 3.7254e-04 - val_accuracy: 1.0000\n",
      "Epoch 61/100\n",
      "37/37 [==============================] - 0s 2ms/step - loss: 9.1221e-05 - accuracy: 1.0000 - val_loss: 3.6045e-04 - val_accuracy: 1.0000\n",
      "Epoch 62/100\n",
      "37/37 [==============================] - 0s 2ms/step - loss: 8.7579e-05 - accuracy: 1.0000 - val_loss: 3.4870e-04 - val_accuracy: 1.0000\n",
      "Epoch 63/100\n",
      "37/37 [==============================] - 0s 2ms/step - loss: 8.4099e-05 - accuracy: 1.0000 - val_loss: 3.3944e-04 - val_accuracy: 1.0000\n",
      "Epoch 64/100\n",
      "37/37 [==============================] - 0s 2ms/step - loss: 8.0817e-05 - accuracy: 1.0000 - val_loss: 3.2873e-04 - val_accuracy: 1.0000\n",
      "Epoch 65/100\n",
      "37/37 [==============================] - 0s 2ms/step - loss: 7.7702e-05 - accuracy: 1.0000 - val_loss: 3.1921e-04 - val_accuracy: 1.0000\n",
      "Epoch 66/100\n",
      "37/37 [==============================] - 0s 2ms/step - loss: 7.4738e-05 - accuracy: 1.0000 - val_loss: 3.0931e-04 - val_accuracy: 1.0000\n",
      "Epoch 67/100\n",
      "37/37 [==============================] - 0s 2ms/step - loss: 7.1930e-05 - accuracy: 1.0000 - val_loss: 3.0001e-04 - val_accuracy: 1.0000\n",
      "Epoch 68/100\n",
      "37/37 [==============================] - 0s 2ms/step - loss: 6.9266e-05 - accuracy: 1.0000 - val_loss: 2.9168e-04 - val_accuracy: 1.0000\n",
      "Epoch 69/100\n",
      "37/37 [==============================] - 0s 2ms/step - loss: 6.6708e-05 - accuracy: 1.0000 - val_loss: 2.8352e-04 - val_accuracy: 1.0000\n",
      "Epoch 70/100\n",
      "37/37 [==============================] - 0s 2ms/step - loss: 6.4270e-05 - accuracy: 1.0000 - val_loss: 2.7423e-04 - val_accuracy: 1.0000\n",
      "Epoch 71/100\n",
      "37/37 [==============================] - 0s 2ms/step - loss: 6.1952e-05 - accuracy: 1.0000 - val_loss: 2.6722e-04 - val_accuracy: 1.0000\n",
      "Epoch 72/100\n",
      "37/37 [==============================] - 0s 2ms/step - loss: 5.9748e-05 - accuracy: 1.0000 - val_loss: 2.6009e-04 - val_accuracy: 1.0000\n",
      "Epoch 73/100\n",
      "37/37 [==============================] - 0s 2ms/step - loss: 5.7641e-05 - accuracy: 1.0000 - val_loss: 2.5279e-04 - val_accuracy: 1.0000\n",
      "Epoch 74/100\n",
      "37/37 [==============================] - 0s 2ms/step - loss: 5.5622e-05 - accuracy: 1.0000 - val_loss: 2.4598e-04 - val_accuracy: 1.0000\n",
      "Epoch 75/100\n",
      "37/37 [==============================] - 0s 2ms/step - loss: 5.3690e-05 - accuracy: 1.0000 - val_loss: 2.3904e-04 - val_accuracy: 1.0000\n",
      "Epoch 76/100\n",
      "37/37 [==============================] - 0s 2ms/step - loss: 5.1852e-05 - accuracy: 1.0000 - val_loss: 2.3258e-04 - val_accuracy: 1.0000\n",
      "Epoch 77/100\n",
      "37/37 [==============================] - 0s 2ms/step - loss: 5.0087e-05 - accuracy: 1.0000 - val_loss: 2.2693e-04 - val_accuracy: 1.0000\n",
      "Epoch 78/100\n",
      "37/37 [==============================] - 0s 2ms/step - loss: 4.8400e-05 - accuracy: 1.0000 - val_loss: 2.2076e-04 - val_accuracy: 1.0000\n",
      "Epoch 79/100\n",
      "37/37 [==============================] - 0s 2ms/step - loss: 4.6793e-05 - accuracy: 1.0000 - val_loss: 2.1562e-04 - val_accuracy: 1.0000\n",
      "Epoch 80/100\n",
      "37/37 [==============================] - 0s 2ms/step - loss: 4.5234e-05 - accuracy: 1.0000 - val_loss: 2.0950e-04 - val_accuracy: 1.0000\n",
      "Epoch 81/100\n",
      "37/37 [==============================] - 0s 2ms/step - loss: 4.3748e-05 - accuracy: 1.0000 - val_loss: 2.0402e-04 - val_accuracy: 1.0000\n",
      "Epoch 82/100\n",
      "37/37 [==============================] - 0s 2ms/step - loss: 4.2327e-05 - accuracy: 1.0000 - val_loss: 1.9902e-04 - val_accuracy: 1.0000\n",
      "Epoch 83/100\n",
      "37/37 [==============================] - 0s 2ms/step - loss: 4.0966e-05 - accuracy: 1.0000 - val_loss: 1.9414e-04 - val_accuracy: 1.0000\n",
      "Epoch 84/100\n",
      "37/37 [==============================] - 0s 2ms/step - loss: 3.9650e-05 - accuracy: 1.0000 - val_loss: 1.8909e-04 - val_accuracy: 1.0000\n",
      "Epoch 85/100\n",
      "37/37 [==============================] - 0s 2ms/step - loss: 3.8392e-05 - accuracy: 1.0000 - val_loss: 1.8448e-04 - val_accuracy: 1.0000\n",
      "Epoch 86/100\n",
      "37/37 [==============================] - 0s 2ms/step - loss: 3.7180e-05 - accuracy: 1.0000 - val_loss: 1.8022e-04 - val_accuracy: 1.0000\n",
      "Epoch 87/100\n",
      "37/37 [==============================] - 0s 2ms/step - loss: 3.6016e-05 - accuracy: 1.0000 - val_loss: 1.7552e-04 - val_accuracy: 1.0000\n",
      "Epoch 88/100\n",
      "37/37 [==============================] - 0s 2ms/step - loss: 3.4893e-05 - accuracy: 1.0000 - val_loss: 1.7128e-04 - val_accuracy: 1.0000\n",
      "Epoch 89/100\n",
      "37/37 [==============================] - 0s 2ms/step - loss: 3.3824e-05 - accuracy: 1.0000 - val_loss: 1.6701e-04 - val_accuracy: 1.0000\n",
      "Epoch 90/100\n",
      "37/37 [==============================] - 0s 2ms/step - loss: 3.2783e-05 - accuracy: 1.0000 - val_loss: 1.6344e-04 - val_accuracy: 1.0000\n",
      "Epoch 91/100\n",
      "37/37 [==============================] - 0s 2ms/step - loss: 3.1788e-05 - accuracy: 1.0000 - val_loss: 1.5947e-04 - val_accuracy: 1.0000\n",
      "Epoch 92/100\n",
      "37/37 [==============================] - 0s 2ms/step - loss: 3.0822e-05 - accuracy: 1.0000 - val_loss: 1.5567e-04 - val_accuracy: 1.0000\n",
      "Epoch 93/100\n",
      "37/37 [==============================] - 0s 2ms/step - loss: 2.9903e-05 - accuracy: 1.0000 - val_loss: 1.5213e-04 - val_accuracy: 1.0000\n",
      "Epoch 94/100\n",
      "37/37 [==============================] - 0s 2ms/step - loss: 2.9005e-05 - accuracy: 1.0000 - val_loss: 1.4843e-04 - val_accuracy: 1.0000\n",
      "Epoch 95/100\n",
      "37/37 [==============================] - 0s 2ms/step - loss: 2.8150e-05 - accuracy: 1.0000 - val_loss: 1.4506e-04 - val_accuracy: 1.0000\n",
      "Epoch 96/100\n",
      "37/37 [==============================] - 0s 2ms/step - loss: 2.7315e-05 - accuracy: 1.0000 - val_loss: 1.4172e-04 - val_accuracy: 1.0000\n",
      "Epoch 97/100\n",
      "37/37 [==============================] - 0s 2ms/step - loss: 2.6516e-05 - accuracy: 1.0000 - val_loss: 1.3838e-04 - val_accuracy: 1.0000\n",
      "Epoch 98/100\n",
      "37/37 [==============================] - 0s 2ms/step - loss: 2.5745e-05 - accuracy: 1.0000 - val_loss: 1.3554e-04 - val_accuracy: 1.0000\n",
      "Epoch 99/100\n",
      "37/37 [==============================] - 0s 2ms/step - loss: 2.5006e-05 - accuracy: 1.0000 - val_loss: 1.3266e-04 - val_accuracy: 1.0000\n",
      "Epoch 100/100\n",
      "37/37 [==============================] - 0s 2ms/step - loss: 2.4278e-05 - accuracy: 1.0000 - val_loss: 1.2932e-04 - val_accuracy: 1.0000\n"
     ]
    }
   ],
   "source": [
    "# Train the model\n",
    "categories = [['Human Resources', 'Sales', 'Research & Development']]\n",
    "label_encoder = LabelEncoder()\n",
    "department_encoder = OneHotEncoder()\n",
    "department_encoder = OneHotEncoder(handle_unknown='ignore')\n",
    "department_encoder.fit(X_train[['Department']])\n",
    "department_encoded = department_encoder.transform(X_test[['Department']])\n",
    "\n",
    "X_test_department_encoded = department_encoder.transform(X_test[['Department']])\n",
    "print(X_test_attrition_encoded.shape)\n",
    "print(X_test_department_encoded.shape)\n",
    "print(y_test.shape)\n",
    "\n",
    "#X_test_department_encoded = department_encoder.transform(X_test[['Department']])\n",
    "y_train = label_encoder.fit_transform(y_train)  # Converts strings to integers\n",
    "y_test = label_encoder.transform(y_test)\n",
    "\n",
    "\n",
    "history = model.fit(\n",
    "    x=[X_train_attrition_encoded, X_train_department_encoded],  # Input data for Attrition and Department\n",
    "    y=y_train,                                                  # Target labels\n",
    "    batch_size=32,                                              # Batch size\n",
    "    epochs=100,                                                  # Number of epochs\n",
    "    validation_data=(\n",
    "        [X_test_attrition_encoded, X_test_department_encoded],  # Validation input data\n",
    "        y_test                                                  # Validation labels\n",
    "    ),\n",
    "    verbose=1                                                   # Display progress\n",
    ")\n"
   ]
  },
  {
   "cell_type": "code",
   "execution_count": 229,
   "metadata": {
    "colab": {
     "base_uri": "https://localhost:8080/"
    },
    "id": "VsMoaQlgGc3U",
    "outputId": "1bd4e601-e964-4abc-ad83-aeecf6b696be"
   },
   "outputs": [
    {
     "name": "stdout",
     "output_type": "stream",
     "text": [
      "10/10 [==============================] - 0s 1ms/step - loss: 1.2932e-04 - accuracy: 1.0000\n"
     ]
    }
   ],
   "source": [
    "# Evaluate the model with the testing data\n",
    "test_loss, test_accuracy = model.evaluate(\n",
    "    x=[X_test_attrition_encoded, X_test_department_encoded],  # Input data for testing\n",
    "    y=y_test,  # True labels for testing data\n",
    "    verbose=1  # Display progress during evaluation\n",
    ")\n"
   ]
  },
  {
   "cell_type": "code",
   "execution_count": 230,
   "metadata": {
    "colab": {
     "base_uri": "https://localhost:8080/"
    },
    "id": "ZlCtlHi0Vt54",
    "outputId": "bc21ef3e-80c2-4b38-9c29-79515bc23dec"
   },
   "outputs": [
    {
     "name": "stdout",
     "output_type": "stream",
     "text": [
      "10/10 [==============================] - 0s 1ms/step - loss: 1.2932e-04 - accuracy: 1.0000\n"
     ]
    }
   ],
   "source": [
    "# Print the accuracy for both department and attrition\n",
    "results = model.evaluate(\n",
    "    x=[X_test_attrition_encoded, X_test_department_encoded],  # Input data\n",
    "    y=y_test,  # True labels for testing data\n",
    "    verbose=1  # Display progress\n",
    ")\n",
    "metrics_names = model.metrics_names  "
   ]
  },
  {
   "cell_type": "markdown",
   "metadata": {
    "id": "eGSyfsZfWOQM"
   },
   "source": [
    "# Summary\n",
    "\n",
    "In the provided space below, briefly answer the following questions.\n",
    "\n",
    "1. Is accuracy the best metric to use on this data? Why or why not?\n",
    "\n",
    "2. What activation functions did you choose for your output layers, and why?\n",
    "\n",
    "3. Can you name a few ways that this model might be improved?"
   ]
  },
  {
   "cell_type": "markdown",
   "metadata": {
    "id": "pi9SLpFnWvbF"
   },
   "source": [
    "YOUR ANSWERS HERE\n",
    "\n",
    "1. Accuracy of 1.00 appears that a 100% accracy was achieved  but could mean that we have too small of a dataset. Also, data leakage maybe present. Accuracy maybe usefull but at the risk class imbalance and possible real world errors.\n",
    "2. Chose sigmoud function for output layer on Attrition and multiclassification for Department. Used softmax for normalization of probablistic prediction for department classification accuracy. \n",
    "3. Address over fitting, add dropped layers to reduce reliance of specific nuerons , increase data diversity, check data leakage and regulate ouput threshold to name a few."
   ]
  },
  {
   "cell_type": "markdown",
   "metadata": {},
   "source": []
  }
 ],
 "metadata": {
  "colab": {
   "provenance": []
  },
  "kernelspec": {
   "display_name": "Python 3 (ipykernel)",
   "language": "python",
   "name": "python3"
  },
  "language_info": {
   "codemirror_mode": {
    "name": "ipython",
    "version": 3
   },
   "file_extension": ".py",
   "mimetype": "text/x-python",
   "name": "python",
   "nbconvert_exporter": "python",
   "pygments_lexer": "ipython3",
   "version": "3.10.14"
  },
  "vscode": {
   "interpreter": {
    "hash": "31f2aee4e71d21fbe5cf8b01ff0e069b9275f58929596ceb00d14d90e3e16cd6"
   }
  }
 },
 "nbformat": 4,
 "nbformat_minor": 4
}
